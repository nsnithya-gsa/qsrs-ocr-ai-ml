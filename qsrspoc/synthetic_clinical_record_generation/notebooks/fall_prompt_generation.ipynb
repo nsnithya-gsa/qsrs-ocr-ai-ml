{
 "cells": [
  {
   "cell_type": "markdown",
   "metadata": {},
   "source": [
    "Import Statements"
   ]
  },
  {
   "cell_type": "code",
   "execution_count": null,
   "metadata": {},
   "outputs": [],
   "source": [
    "import random\n",
    "from typing import List, Tuple"
   ]
  },
  {
   "cell_type": "markdown",
   "metadata": {},
   "source": [
    "Helper Functions"
   ]
  },
  {
   "cell_type": "code",
   "execution_count": null,
   "metadata": {},
   "outputs": [],
   "source": [
    "def return_days_inside_3_day_window(window_center_day: int, discharge_day: int) -> List[int]:\n",
    "\t\"\"\"Given the day number at the center of a 3-day window and the current discharge day,\n",
    "\treturns all possible days within that 3-day window that still fit within the patient stay\n",
    "\n",
    "\tArgs:\n",
    "\t\twindow_center_day (int): day number of event at the center of the window\n",
    "\t\tdischarge_day (int): current discharge day before the function is called\n",
    "\n",
    "\tReturns:\n",
    "\t\tList[int]: list of all day numbers that can be chosen bc they're within the 3 day \n",
    "\t\twindow and the patient's stay\n",
    "\t\"\"\"\n",
    "\t# first day in window is 3 days before event OR admission day, whichever comes last\n",
    "\tearliest_possible_day = max(1, window_center_day - 3)\n",
    "\n",
    "\t# last day in window is 3 days after event OR discharge day, whichever comes first\n",
    "\tlatest_possible_day = min(window_center_day + 3, discharge_day)\n",
    "\n",
    "\t# range collects consecutive numbers from first number to last number-1 \n",
    "\tpossible_findings_days = list(range(earliest_possible_day, latest_possible_day + 1))\n",
    "\treturn possible_findings_days\n",
    "\n",
    "\n",
    "\n",
    "def get_days_outside_3_day_window(window_center_day: int, discharge_day: int) -> Tuple[List[int], int]:\n",
    "\t\"\"\"Given the day number at the center of a 3-day window and the current discharge day,\n",
    "\treturns all possible days outside that 3-day window that still fit within the patient stay\n",
    "\tAND ALSO the discharge day, which might be increased -\n",
    "\tIf the patient stay is too short (so all patient stay days are inside the 3-day window), \n",
    "\tthe discharge day will be increased (with some randomization of up to 5 extra days) to \n",
    "\tensure that there's at least one day outside the 3-day window\n",
    "\n",
    "\tArgs:\n",
    "\t\twindow_center_day (int): day number of event at the center of the window\n",
    "\t\tdischarge_day (int): current discharge day before the function is called\n",
    "\n",
    "\tReturns:\n",
    "\t\tTuple[List[int], int]: first return variable is a list of all day numbers that can be \n",
    "\t\tchosen bc they're outside the 3 day window, second return variable is the (possibly larger)\n",
    "\t\tdischarge day. After calling this function, we must check to see if externally-stored value of\n",
    "\t\tdischarge day needs to be updated to match.\n",
    "\t\"\"\"\n",
    "\tdis_day = discharge_day\n",
    "\n",
    "\t# if event is very early in stay, the window includes admission (day 1)\n",
    "\tif window_center_day < 5:\n",
    "\t\t# findings must happen after window but before discharge\n",
    "\t\tlast_window_day = window_center_day + 3\n",
    "\t\t\n",
    "\t\t# make sure there are days in stay after window\n",
    "\t\tif last_window_day >= discharge_day:\n",
    "\t\t\tmin_extra_days_needed = last_window_day - discharge_day + 1\n",
    "\t\t\t# lengthen stay by increasing discharge day number\n",
    "\t\t\tdis_day = discharge_day + random.randint(min_extra_days_needed, min_extra_days_needed + 5)\n",
    "\n",
    "\t\tpossible_findings_days = list(range(last_window_day + 1, dis_day + 1))\n",
    "\n",
    "\telse:\n",
    "\t\t# collect day numbers in stay before the 3-day window\n",
    "\t\tleft_of_window_days = list(range(1, window_center_day - 3))\n",
    "\n",
    "\t\t# collect day numbers in stay after the 3-day window\n",
    "\t\tright_of_window_days = list(range(window_center_day + 4, (dis_day + 1)))\n",
    "\n",
    "\t\t# choose a random day from the combined list of possible outside-of-window days in stay\n",
    "\t\tpossible_findings_days = left_of_window_days + right_of_window_days\n",
    "\n",
    "\treturn possible_findings_days, dis_day\n",
    "\n",
    "def multiple_choice_question(answer: str, choice_type: str, choice_list: List[str]) -> str:\n",
    "\t\"\"\"Given the answer to a multiple choice question (which may be \"none\", a phrase to make \n",
    "\tthe generic prompt fit the specific situation, and the list of possible choices (phrases),\n",
    "\treturns an appropriate, randomized prompt. Example: given answer = \"none\", choice_type is = \"infection symptoms\",\n",
    "\tchoice_list = [\"fever\", \"redness\", \"swelling\"], returned value will be \"The medical record should not mention \n",
    "\tany of the following infection symptoms: fever, redness, swelling.\" If the answer is not \"none\",\n",
    "\tthe function will choose a random NON-ZERO number of items from the list and build a prompt like this: \n",
    "\t\"The medical record should note the following infection symptoms: redness, swelling\"\n",
    "\n",
    "\tArgs:\n",
    "\t\tanswer (str): \"none\" or \"yes\", the desired answer to an algorithm question\n",
    "\t\tchoice_type (str): short phrase as described above\n",
    "\t\tchoice_list (List[str]): list of all possible multiple choice answers\n",
    "\n",
    "\tReturns:\n",
    "\t\tstr: the complete prompt based on the parameters as described above\n",
    "\t\"\"\"\n",
    "\tif answer == \"none\":\n",
    "\t\tchoices_together = \", \".join(choice_list)\n",
    "\t\tprompt = f\"The medical record should not mention any of the following {choice_type}: {choices_together}.\"\n",
    "\telse:\n",
    "\t\tnum_to_select = random.randint(1, len(choice_list))\n",
    "\t\tselected_elements = random.sample(choice_list, num_to_select)\n",
    "\t\telements_together = \", \".join(selected_elements)\n",
    "\t\tprompt = f\"The medical record should note the following {choice_type}: {elements_together}.\"\n",
    "\treturn prompt"
   ]
  },
  {
   "cell_type": "markdown",
   "metadata": {},
   "source": [
    "QA Dictionary Definition"
   ]
  },
  {
   "cell_type": "code",
   "execution_count": null,
   "metadata": {},
   "outputs": [],
   "source": [
    "# this is used for file naming\n",
    "algo_str = \"hai_other\"\n",
    "prompt_run = \"1\" # to generate a larger set of pdfs, increase this number and re-run. They'll be saved in a separate file instead of overwriting the first set.\n",
    "\n",
    "hai_other_prompt_qa_dict = {}\n",
    "\n",
    "hai_other_prompt_qa_dict[1] = {\n",
    "    \"EQ1\": \"no\"\n",
    "}\n",
    "\n",
    "hai_other_prompt_qa_dict[2] = {\n",
    "    \"EQ1\": \"yes\",\n",
    "    \"EQ2\": \"no\"\n",
    "}\n",
    "\n",
    "hai_other_prompt_qa_dict[3] = {\n",
    "    \"EQ1\": \"yes\",\n",
    "    \"EQ2\": \"yes\",\n",
    "    \"EQ3\": \"no\"\n",
    "}\n",
    "\n",
    "hai_other_prompt_qa_dict[4] = {\n",
    "    \"EQ1\": \"yes\",\n",
    "    \"EQ2\": \"yes\",\n",
    "    \"EQ3\": \"yes\"\n",
    "}"
   ]
  },
  {
   "cell_type": "markdown",
   "metadata": {},
   "source": [
    "Build Prompt Functions"
   ]
  },
  {
   "cell_type": "code",
   "execution_count": null,
   "metadata": {},
   "outputs": [],
   "source": [
    "def build_EQ1_prompt(answer):\n",
    "    EQ1_prompt = \"\"\n",
    "    return EQ1_prompt\n",
    "\n",
    "def build_EQ2_prompt(answer):\n",
    "    EQ2_prompt = \"\"\n",
    "    return EQ2_prompt\n",
    "\n",
    "def build_EQ3_prompt(answer):\n",
    "    EQ3_prompt = \"\"\n",
    "    return EQ3_prompt"
   ]
  },
  {
   "cell_type": "markdown",
   "metadata": {},
   "source": [
    "Main Program"
   ]
  },
  {
   "cell_type": "code",
   "execution_count": null,
   "metadata": {},
   "outputs": [],
   "source": [
    "# use this at the end of the main program to save each full GPT-ready prompt to a json file\n",
    "# this file name shows what story the resulting PDF is; we'll use that during manual PDF generation\n",
    "# so we'll store it in the JSON too\n",
    "def generate_pdf_file_name(algo_str, story_number, prompt_run):\n",
    "    # dictionaries don't store their key-value pairs in order, but sorting alphabetically will fix that\n",
    "    sorted_items = sorted(hai_other_prompt_qa_dict[story_number].items())\n",
    "    \n",
    "    # Correct way to join key-value pairs\n",
    "    formatted_string = prompt_run + \"-\" + algo_str + \"_story\" + str(story_number) + \"_\" + \"_\".join(f\"{key}_{value}\" for key, value in sorted_items)\n",
    "\n",
    "    return f\"{formatted_string}.pdf\""
   ]
  },
  {
   "cell_type": "code",
   "execution_count": null,
   "metadata": {},
   "outputs": [],
   "source": [
    "story_numbers = list(hai_other_prompt_qa_dict.keys())\n",
    "story_prompts_dict = {} # this will hold the full GPT-ready prompt for each story."
   ]
  },
  {
   "cell_type": "code",
   "execution_count": null,
   "metadata": {},
   "outputs": [],
   "source": [
    "for num in story_numbers:\n",
    "\n",
    "    list_of_prompts = [] # you can't change strings, so we'll buid a list of prompts based\n",
    "    # on what question keys are in the story dictionary, add some basics about age, etc, \n",
    "    # and at the very end, join them together into a string and save it in the story_prompts_dict[num].\n",
    "\n",
    "    # set up basic data about the stay that might be changed by functions\n",
    "    discharge_day_number = random.randint(4, 8)\n",
    "    patient_age = random.randint(1, 99)\n",
    "\n",
    "    # create placeholders for variables that might get set / passed around between functions\n",
    "\n",
    "    # collect into a list the questions that are part of this story by their key (EQR1, Q3, etc)\n",
    "    question_keys = list(hai_other_prompt_qa_dict[num].keys())\n",
    "\n",
    "    ###### in this section, check if each key is in the question_keys list and, if so, call their function\n",
    "    # and use the returned value to update list_of_prompts, any other variables.\n",
    "    if \"EQ1\" in question_keys:\n",
    "        ans = hai_other_prompt_qa_dict[num][\"EQ1\"]\n",
    "        eq1_prompt = build_EQ1_prompt(ans)\n",
    "        list_of_prompts.append(eq1_prompt)\n",
    "    #######\n",
    "\n",
    "\n",
    "    # after all build prompt functions that should be called are, add general prompts about the stay that might\n",
    "    # not have been stated yet (remove duplicates at the end)\n",
    "    list_of_prompts.append(f\"Patient is {patient_age} years old.\")\n",
    "    list_of_prompts.append(f\"Patient was discharged on day number {discharge_day_number}.\")\n",
    "\n",
    "    prompt_string = \" \".join(list_of_prompts)\n",
    "    story_prompts_dict[num] = prompt_string\n"
   ]
  },
  {
   "cell_type": "code",
   "execution_count": null,
   "metadata": {},
   "outputs": [],
   "source": [
    "# when the loop is done running (prompts are generated for all stories)\n",
    "# print to screen to be sure everything looks right\n",
    "for num in story_numbers:\n",
    "    print(f\"full prompt to generate story number {num}:\")\n",
    "    print(story_prompts_dict[num])\n",
    "    print()"
   ]
  },
  {
   "cell_type": "code",
   "execution_count": null,
   "metadata": {},
   "outputs": [],
   "source": [
    "import csv\n",
    "csv_output_file = f\"{algo_str}_prompts_{prompt_run}.csv\"\n",
    "with open(csv_output_file, mode='w', newline='', encoding='utf-8') as file:\n",
    "    writer = csv.writer(file)\n",
    "\n",
    "    # Write header\n",
    "    writer.writerow([\"story_definition\", \"story_prompt\"])\n",
    "\n",
    "    # Write each row\n",
    "    for num in story_numbers:\n",
    "        story_definition = generate_pdf_file_name(algo_str, num, prompt_run)  # Function to get filename\n",
    "        story_prompt = story_prompts_dict.get(num, \"\")  # Retrieve prompt, default to empty if missing\n",
    "\n",
    "        writer.writerow([story_definition, story_prompt])"
   ]
  },
  {
   "cell_type": "code",
   "execution_count": null,
   "metadata": {},
   "outputs": [],
   "source": [
    "import json\n",
    "json_output_file = f\"{algo_str}_prompts_{prompt_run}.json\"\n",
    "data = []\n",
    "# Build JSON data\n",
    "for num in story_numbers:\n",
    "    story_definition = generate_pdf_file_name(algo_str, num, prompt_run)  # Function to get filename\n",
    "    story_prompt = story_prompts_dict.get(num, \"\")  # Retrieve prompt, default to empty if missing\n",
    "\n",
    "    data.append({\n",
    "        \"story_definition\": story_definition,\n",
    "        \"story_prompt\": story_prompt\n",
    "    })\n",
    "# Save to JSON file\n",
    "with open(json_output_file, \"w\", encoding=\"utf-8\") as file:\n",
    "    json.dump(data, file, indent=4, ensure_ascii=False)"
   ]
  }
 ],
 "metadata": {
  "kernelspec": {
   "display_name": "venv",
   "language": "python",
   "name": "python3"
  },
  "language_info": {
   "name": "python",
   "version": "3.13.1"
  }
 },
 "nbformat": 4,
 "nbformat_minor": 2
}
